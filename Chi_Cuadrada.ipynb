{
  "nbformat": 4,
  "nbformat_minor": 0,
  "metadata": {
    "colab": {
      "provenance": [],
      "authorship_tag": "ABX9TyMtYmMULyqGEnfPVHUl3apg",
      "include_colab_link": true
    },
    "kernelspec": {
      "name": "python3",
      "display_name": "Python 3"
    },
    "language_info": {
      "name": "python"
    }
  },
  "cells": [
    {
      "cell_type": "markdown",
      "metadata": {
        "id": "view-in-github",
        "colab_type": "text"
      },
      "source": [
        "<a href=\"https://colab.research.google.com/github/AdielFloresChora/Actividad1/blob/main/Chi_Cuadrada.ipynb\" target=\"_parent\"><img src=\"https://colab.research.google.com/assets/colab-badge.svg\" alt=\"Open In Colab\"/></a>"
      ]
    },
    {
      "cell_type": "code",
      "source": [
        "import pandas as pd #Se importa la libreria Pandas\n",
        "from scipy.stats import chi2 #Se importa la libreria chi2\n",
        "i1 = i2 = i3 = i4 = i5 = i6 = i7 = i8 = i9 = i10 = sx = 0 #See inician los contadores\n",
        "m = 10 #\n",
        "a = 0.05 #Se declara el nivel de significancia\n",
        "chi = chi2.ppf(1 - a, m - 1) #Se obtiene el valor crítico chi\n",
        "lista = [0.347, 0.832, 0.966, 0.472, 0.797, 0.101, 0.696, 0.966, 0.404, 0.603,\n",
        "0.993, 0.371, 0.729, 0.067, 0.189, 0.977, 0.843, 0.562, 0.549, 0.992,\n",
        "0.674, 0.628, 0.055, 0.494, 0.494, 0.235, 0.178, 0.775, 0.797, 0.252,\n",
        "0.426, 0.054, 0.022, 0.742, 0.674, 0.898, 0.641, 0.674, 0.821, 0.19,\n",
        "0.46, 0.224, 0.99, 0.786, 0.393, 0.461, 0.011, 0.977, 0.246, 0.881,\n",
        "0.189, 0.753, 0.73, 0.797, 0.292, 0.876, 0.707, 0.562, 0.562, 0.821,\n",
        "0.112, 0.191, 0.584, 0.347, 0.426, 0.057, 0.819, 0.303, 0.404, 0.64,\n",
        "0.37, 0.314, 0.731, 0.742, 0.213, 0.472, 0.641, 0.944, 0.28, 0.663,\n",
        "0.909, 0.764, 0.999, 0.303, 0.718, 0.933, 0.056, 0.415, 0.819, 0.444,\n",
        "0.178, 0.516, 0.437, 0.393, 0.268, 0.123, 0.945, 0.527, 0.459, 0.652] #Se crea la lista con cien valores.\n",
        "\n",
        "for i in range(0, len(lista)): #Con un ciclo for se clasifican los valores de 'lista'.\n",
        "\tif lista[i] >= 0.0 and lista[i] <= 0.1:\n",
        "\t\ti1 += 1\n",
        "\telif lista[i] <= 0.2 and lista[i] > 0.1:\n",
        "\t\ti2 += 1\n",
        "\tif lista[i] <= 0.3 and lista[i] > 0.2:\n",
        "\t\ti3 += 1\n",
        "\telif lista[i] <= 0.4 and lista[i] > 0.3:\n",
        "\t\ti4 += 1\n",
        "\tif lista[i] <= 0.5 and lista[i] > 0.4:\n",
        "\t\ti5 += 1\n",
        "\telif lista[i] <= 0.6 and lista[i] > 0.5:\n",
        "\t\ti6 += 1\n",
        "\tif lista[i] <= 0.7 and lista[i] > 0.6:\n",
        "\t\ti7 += 1\n",
        "\telif lista[i] <= 0.8 and lista[i] > 0.7:\n",
        "\t\ti8 += 1\n",
        "\telif lista[i] <= 0.9 and lista[i] > 0.8:\n",
        "\t\ti9 += 1\n",
        "\telif lista[i] > 0.9 and lista[i] <= 1:\n",
        "\t\ti10 += 1\n",
        "Ei = [] #Se crea la lista 'Ei'.\n",
        "val = [i1, i2, i3, i4, i5, i6, i7, i8, i9, i10] #Se crea la lista 'val'.\n",
        "txi = [] #Se crea la lista con los valores Xi.\n",
        "\n",
        "for i in range(10): #Se utiliza un ciclio for para llenar la tabla 'Ei' y 'txi'.\n",
        "\tEi.append(10) #Se agregan '10' a la lista 'Ei'.\n",
        "\txi = (Ei[i]-val[i])**2/Ei[i] #Se calcula Xi.\n",
        "\ttxi.append(xi) #Se agrega Xi a la tabla de valores 'txi'.\n",
        "\tsx += xi #Se suman los valores Xi para obtener el Xi total.\n",
        "\n",
        "Datos = {'Oi': val, 'Ei': Ei, '(Ei-Oi)^2/Ei': txi} #Se crea el diccioinario 'Datos'.\n",
        "print(pd.DataFrame(Datos)) #Se imprime el dataframe.\n",
        "if sx < chi: #Se compara el Xi calculado con el Xi de la tabla de Xi cuadrada.\n",
        "\tprint(\"No se puede rechazar que el conjunto ri siga una distribución uniforme\")\n",
        "else:\n",
        "\tprint('Se puede rechazar que el conjunto ri siga una distribución uniforme')\n",
        "\n"
      ],
      "metadata": {
        "colab": {
          "base_uri": "https://localhost:8080/"
        },
        "id": "itElIEWKEwua",
        "outputId": "a0dff134-dbd3-4b7f-9d12-2e7bdad4599c"
      },
      "execution_count": 13,
      "outputs": [
        {
          "output_type": "stream",
          "name": "stdout",
          "text": [
            "   Oi  Ei  (Ei-Oi)^2/Ei\n",
            "0   7  10           0.9\n",
            "1   9  10           0.1\n",
            "2   8  10           0.4\n",
            "3   9  10           0.1\n",
            "4  14  10           1.6\n",
            "5   7  10           0.9\n",
            "6  11  10           0.1\n",
            "7  14  10           1.6\n",
            "8   9  10           0.1\n",
            "9  12  10           0.4\n",
            "No se puede rechazar que el conjunto ri siga una distribución uniforme\n"
          ]
        }
      ]
    }
  ]
}