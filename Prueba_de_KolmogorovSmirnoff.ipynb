{
  "nbformat": 4,
  "nbformat_minor": 0,
  "metadata": {
    "colab": {
      "provenance": [],
      "authorship_tag": "ABX9TyMh6epyxu4We98j7kTntpLA",
      "include_colab_link": true
    },
    "kernelspec": {
      "name": "python3",
      "display_name": "Python 3"
    },
    "language_info": {
      "name": "python"
    }
  },
  "cells": [
    {
      "cell_type": "markdown",
      "metadata": {
        "id": "view-in-github",
        "colab_type": "text"
      },
      "source": [
        "<a href=\"https://colab.research.google.com/github/AdielFloresChora/Actividad1/blob/main/Prueba_de_KolmogorovSmirnoff.ipynb\" target=\"_parent\"><img src=\"https://colab.research.google.com/assets/colab-badge.svg\" alt=\"Open In Colab\"/></a>"
      ]
    },
    {
      "cell_type": "code",
      "execution_count": null,
      "metadata": {
        "id": "RKkYvUPBIv5f"
      },
      "outputs": [],
      "source": [
        "#Prueba de Kolmogorov-Smirnov\n",
        "import pandas as pd #Se importa la librería Pandas.\n",
        "from scipy.stats import ksone #Se importa stats de ksone.\n",
        "\n",
        "r_i = [0.97, 0.11, 0.65, 0.26, 0.98, 0.03, 0.13, 0.89, 0.21, 0.69] #Lista de valores desordenada.\n",
        "r_io = sorted(r_i) #Se ordenan los datos y se almacenan en la lista 'r_io'\n",
        "i = [] #Se crea una lista 'i' vacía. Esto es el rango de 1 a longitud de r_i.\n",
        "i_n = [] #Se crea una lista 'i_n' vacía. En esta lista se almacenará el resultado de 'i' entre longitud de 'r_io'.\n",
        "i_1n = [] #Se crea una lista 'i_1n' vacía. En esta lista se almecenará el resultado de restar uno a 'i' y dividirlo entre longitud de 'r_io'.\n",
        "in_ri = [] #Se crea una lista 'in_ri' vacía. En esta lista se almacenará el resultado de i/n - ri.\n",
        "ri_i_1n = [] #Se crea una lista 'ri_i_1n' vacía. En esta lista se almacenará el resultado de ri -(i-1)/n\n",
        "\n",
        "for j in range(1, len(r_i)+1): #Se inicia un ciclo for de 1 hasta longitud del r_i +1\n",
        "\ti.append(j) #Se agrega 'j' a la lista 'i'.\n",
        "\ti_n.append(i[j-1]/len(r_i)) #Se agrega 'i/n' a la lista 'i_n'.\n",
        "\ti_1n.append((i[j-1]-1)/len(r_i)) #Se agrega '(i-1)/n' a la lista 'i_1n'.\n",
        "\tin_ri.append(i_n[j-1]-r_io[j-1]) #Se agrega 'i/n - ri' a la lista 'ri_ni'.\n",
        "\tri_i_1n.append(r_io[j-1]-i_1n[j-1]) #Se agrega 'ri-(i-1)/n' a lista 'ri_i_1n'.\n",
        "DM = max(in_ri) #Se toma el valor máximo de i/n-ri.\n",
        "Dm = max(ri_i_1n) #Se toma el valor máximo de ri-(i-1)/n\n",
        "D = max(DM, Dm) #Se toma el valor máximo entre DM y Dm.\n",
        "datos = {'i/n': i_n, 'ri': r_io, 'i-1/n': i_1n, 'i/n-ri': in_ri, 'ri-i-1/n': ri_i_1n}\n",
        "df = pd.DataFrame(datos)\n",
        "print(df) #Se imprime el dataframe de las listas.\n",
        "\n",
        "alfa = 0.1\n",
        "n = 10\n",
        "D_a_n = ksone.ppf(1 - alfa, n) #Se calcula D_alfa_n\n",
        "\n",
        "if D >= D_a_n: #Se evalua la condición de Kolmogorov-Smirnof\n",
        "\tprint(\"El conjunto no sigue una distribución uniforme\")\n",
        "else:\n",
        "\tprint(\"El conjunto sí sigue una disstribución uniforme\")"
      ]
    }
  ]
}