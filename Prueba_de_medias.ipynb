{
  "nbformat": 4,
  "nbformat_minor": 0,
  "metadata": {
    "colab": {
      "provenance": [],
      "authorship_tag": "ABX9TyPo5XYxjHqm7BPHGYmwmicB",
      "include_colab_link": true
    },
    "kernelspec": {
      "name": "python3",
      "display_name": "Python 3"
    },
    "language_info": {
      "name": "python"
    }
  },
  "cells": [
    {
      "cell_type": "markdown",
      "metadata": {
        "id": "view-in-github",
        "colab_type": "text"
      },
      "source": [
        "<a href=\"https://colab.research.google.com/github/AdielFloresChora/Actividad1/blob/main/Prueba_de_medias.ipynb\" target=\"_parent\"><img src=\"https://colab.research.google.com/assets/colab-badge.svg\" alt=\"Open In Colab\"/></a>"
      ]
    },
    {
      "cell_type": "code",
      "execution_count": 1,
      "metadata": {
        "colab": {
          "base_uri": "https://localhost:8080/"
        },
        "id": "BAqtScYlGv5l",
        "outputId": "86f42516-060f-42fa-e5e8-49366bf50f50"
      },
      "outputs": [
        {
          "output_type": "stream",
          "name": "stdout",
          "text": [
            "Se acepta la hipotesis de independencia\n"
          ]
        }
      ],
      "source": [
        "#Prueba de medias\n",
        "from scipy.stats import norm #Se importa scipy.stats de la libreria norm. Esto para obtener el valor crítico z.\n",
        "\n",
        "alpha = 0.05 #Se declara la variable alpha que es el nivel de significancia.\n",
        "z = norm.ppf(1 - alpha/2) #Se calcula el valor crítico z\n",
        "lista = [0.347, 0.832, 0.966, 0.472, 0.797, 0.101, 0.696, 0.966, 0.404, 0.603,\n",
        "0.993, 0.371, 0.729, 0.067, 0.189, 0.977, 0.843, 0.562, 0.549, 0.992,\n",
        "0.674, 0.628, 0.055, 0.494, 0.494, 0.235, 0.178, 0.775, 0.797, 0.252,\n",
        "0.426, 0.054, 0.022, 0.742, 0.674, 0.898, 0.641, 0.674, 0.821, 0.19,\n",
        "0.46, 0.224, 0.99, 0.786, 0.393, 0.461, 0.011, 0.977, 0.246, 0.881,\n",
        "0.189, 0.753, 0.73, 0.797, 0.292, 0.876, 0.707, 0.562, 0.562, 0.821,\n",
        "0.112, 0.191, 0.584, 0.347, 0.426, 0.057, 0.819, 0.303, 0.404, 0.64,\n",
        "0.37, 0.314, 0.731, 0.742, 0.213, 0.472, 0.641, 0.944, 0.28, 0.663,\n",
        "0.909, 0.764, 0.999, 0.303, 0.718, 0.933, 0.056, 0.415, 0.819, 0.444,\n",
        "0.178, 0.516, 0.437, 0.393, 0.268, 0.123, 0.945, 0.527, 0.459, 0.652] #Se crea una lista de nombre 'lista' con los valores\n",
        "signos = [] #Se crea una lista vacía donde posteriormente se anexarán los signos '+' o '-'.\n",
        "p = 0 #Se inicia la variable p (positivo) en 0.\n",
        "n = 0 #Se inicia la variable n (negativo) en 0.\n",
        "h = 0 #Se inicia la variable h que indica las corridas (cambio de signo).\n",
        "for i in range(1, len(lista)): #Se inicia un ciclo for que va de 1 a longitud de 'lista'. Se compara el elemento i con el elemento i-1.\n",
        "\tif lista[i] <= lista[i-1]: #Si el elemento i es menor o igual a i-1, se suma en 1 la variable n; además, se agrega un signo menos a la lista 'signos'.\n",
        "\t\tn += 1\n",
        "\t\tsignos.append('-')\n",
        "\telse: #En caso contrario se suma en 1 la variable 'p' y se agrega un signo más a la lista 'signos'.\n",
        "\t\tp += 1\n",
        "\t\tsignos.append('+')\n",
        "for signo in range(len(signos)): #Se inicia un ciclo for que va de 0 a longitud de 'lista'.\n",
        "\tif signos[signo] != signos[signo-1]: #Se compara el elemento 'signo' con 'signo-1'. Es decir, se comparan los signos y, si hay cambio de signo, se suma en 1 la variable 'h'.\n",
        "\t\th += 1\n",
        "E = (2*len(lista)-1)/3 #Se calcula E.\n",
        "V = (16*len(lista)-29)/90 #Se calcula V.\n",
        "Z = (h-E)/(V**(1/2)) #Se calcula Z.\n",
        "if Z < z: #Si 'Z' es menor al valor crítico z, se acepta la hipótesis de independencia.\n",
        "\tprint(\"Se acepta la hipotesis de independencia\")\n",
        "else: #En caso contrario, se rechaza la hipoótesis.\n",
        "\tprint(\"No se acepta la hipotesis de independencia\")\n"
      ]
    }
  ]
}